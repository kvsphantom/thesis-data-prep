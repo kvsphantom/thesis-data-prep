{
 "cells": [
  {
   "cell_type": "code",
   "execution_count": 1,
   "metadata": {},
   "outputs": [],
   "source": [
    "import numpy as np\n",
    "import os\n",
    "import cPickle\n",
    "import pandas as pd\n",
    "import yaml\n",
    "import wave\n",
    "import struct\n",
    "import gc\n",
    "from scipy.io import wavfile\n",
    "from scipy.io import savemat\n",
    "import copy\n",
    "import patch_label"
   ]
  },
  {
   "cell_type": "code",
   "execution_count": 2,
   "metadata": {},
   "outputs": [],
   "source": [
    "def backup_wavfile_reader(fpath):\n",
    "    \"\"\"Read wav files when scipy wavfile fail to read.\n",
    "    Args:\n",
    "        fpath (str): path to the wav file to read\n",
    "    Returns:\n",
    "        numpy array: data read from wav file\n",
    "    \"\"\"\n",
    "    f = wave.open(fpath, 'rb')\n",
    "    res = []\n",
    "    for i in xrange(f.getnframes()):\n",
    "        frame = f.readframes(1)\n",
    "        x = struct.unpack('=h', frame[:2])[0]\n",
    "        y = struct.unpack('=h', frame[2:])[0]\n",
    "        res.append([x, y])\n",
    "    return np.array(res)\n"
   ]
  },
  {
   "cell_type": "code",
   "execution_count": 3,
   "metadata": {},
   "outputs": [],
   "source": [
    "def read_mixed_from_files(dpath, dlist, pickle_file=None):\n",
    "    \"\"\"Read the mixed track files and return as dictionary\n",
    "    Args:\n",
    "        dpath (str): path to the directory \"MedleyDB/Audio\"\n",
    "        dlist (list): list of str, each for one mixed track file\n",
    "    Returns:\n",
    "        dict: in the format of {song_name(string): song_data(numpy array)}\n",
    "              song_data two rows n cols. Each row is a channel, each col is a\n",
    "              time frame.\n",
    "    \"\"\"\n",
    "    res = dict()\n",
    "    for i in dlist:\n",
    "        fpath = os.path.join(dpath, i, '{}_MIX.wav'.format(i))\n",
    "        try:\n",
    "            data = wavfile.read(fpath)[1].T\n",
    "        except:\n",
    "            print \"Warning: can't read {}, switch to backup reader\". \\\n",
    "                format(fpath)\n",
    "            data = backup_wavfile_reader(fpath).T\n",
    "        res[i] = np.float32(data)\n",
    "    if pickle_file is not None:\n",
    "        with open(pickle_file, 'w') as f:\n",
    "            cPickle.dump(res, f)\n",
    "    return res\n"
   ]
  },
  {
   "cell_type": "code",
   "execution_count": 4,
   "metadata": {},
   "outputs": [],
   "source": [
    "def normalize_data(data):\n",
    "    \"\"\"Normalize data with respect to each file in place\n",
    "\n",
    "    For each file, normalize each column using standardization\n",
    "\n",
    "    Args:\n",
    "        data (dict): in format of {song_name(string): song_data(numpy array)}\n",
    "    Returns:\n",
    "        N/A\n",
    "    \"\"\"\n",
    "    for k in data.keys():\n",
    "        mean = data[k].mean(axis=1).reshape(2, 1)\n",
    "        std = data[k].std(axis=1).reshape(2, 1)\n",
    "        data[k] = np.float32(((data[k] - mean) / std))\n"
   ]
  },
  {
   "cell_type": "code",
   "execution_count": 5,
   "metadata": {},
   "outputs": [],
   "source": [
    "def read_activation_confs(path, pickle_file=None):\n",
    "    \"\"\"Read the annotation files of activation confidence, return as dictionary\n",
    "    Args:\n",
    "        path (string): path to the directory \"MedleyDB\"\n",
    "    Returns:\n",
    "        dict: in the format of {song_name(string): annotation(pandas df)}\n",
    "    \"\"\"\n",
    "    dpath = os.path.join(path, 'Annotations', 'Instrument_Activations',\n",
    "                         'ACTIVATION_CONF')\n",
    "    dlist = os.listdir(dpath)\n",
    "    res = dict()\n",
    "    for i in dlist:\n",
    "        fpath = os.path.join(dpath, i)\n",
    "        annotation = pd.read_csv(fpath, index_col=False)\n",
    "        k = i[:-20].split('(')[0]\n",
    "        k = k.translate(None, \"'-\")\n",
    "        res[k] = annotation\n",
    "    if pickle_file is not None:\n",
    "        with open(pickle_file, 'w') as f:\n",
    "            cPickle.dump(res, f)\n",
    "    return res"
   ]
  },
  {
   "cell_type": "code",
   "execution_count": 6,
   "metadata": {},
   "outputs": [],
   "source": [
    "def read_meta_data(path, pickle_file=None):\n",
    "    \"\"\"Read the metadata for instrument info, return as dictionary\n",
    "    Args:\n",
    "        path (string): path to the directory \"MedleyDB\"\n",
    "    Returns:\n",
    "        dict: in the format of {song_name(string): instrument_map(dict)}\n",
    "              instrument_map is of the format eg: {'S01': 'piano'}\n",
    "    \"\"\"\n",
    "    dpath = os.path.join(path, \"Audio\")\n",
    "    dlist = os.listdir(dpath)\n",
    "    res = dict()\n",
    "    for i in dlist:\n",
    "        fpath = os.path.join(dpath, i, '{}_METADATA.yaml'.format(i))\n",
    "        with open(fpath, 'r') as f:\n",
    "            meta = yaml.load(f)\n",
    "        instrument = {k: v['instrument'] for k, v in meta['stems'].items()}\n",
    "        res[i] = instrument\n",
    "    if pickle_file is not None:\n",
    "        with open(pickle_file, 'w') as f:\n",
    "            cPickle.dump(res, f)\n",
    "    return res"
   ]
  },
  {
   "cell_type": "code",
   "execution_count": 7,
   "metadata": {},
   "outputs": [],
   "source": [
    "def groupMetaData(meta, instGroup):\n",
    "    \"\"\"Match instrument number in annotation with real instrument name in meta.\n",
    "    Args:\n",
    "        meta (dict): in the format of {song_name(string): instrument_map(dict)}\n",
    "                     instrument_map is of the format eg: {'S01': 'piano'}\n",
    "        instGroup (dict): {instrument: instrumentGroup} eg: {'piano': 'struck'}\n",
    "    Returns:\n",
    "        groupedMeta (dict): in the format of\n",
    "                            {song_name(string): instrument_map(dict)}\n",
    "    \"\"\"\n",
    "    groupedMeta = copy.deepcopy(meta)\n",
    "    for songName in groupedMeta.keys():\n",
    "        for stemName in groupedMeta[songName]:\n",
    "            groupedMeta[songName][stemName] = instGroup[groupedMeta[songName]\n",
    "                                                        [stemName]]\n",
    "    return groupedMeta\n"
   ]
  },
  {
   "cell_type": "code",
   "execution_count": 8,
   "metadata": {},
   "outputs": [],
   "source": [
    "def match_meta_annotation(meta, annotation):\n",
    "    \"\"\"Match instrument number in annotation with real instrument name in meta.\n",
    "\n",
    "    Note: In the annotation of one mixed track, there can be multiple instances\n",
    "          of the same instrument, in which case the same column name appears\n",
    "          multiple times in the pandas df\n",
    "\n",
    "    Args:\n",
    "        meta (dict): in the format of {song_name(string): instrument_map(dict)}\n",
    "                     instrument_map is of the format eg: {'S01': 'piano'}\n",
    "        annotation (dict): {song_name(string): annotation(pandas df)}\n",
    "    Returns:\n",
    "        list: containing all instruments involved, sorted in alphebic order\n",
    "    \"\"\"\n",
    "    assert(len(meta) == len(annotation))\n",
    "    all_instruments = set()\n",
    "    for k, v in annotation.items():\n",
    "        v.rename(columns=meta[k], inplace=True)\n",
    "        all_instruments.update(v.columns[1:])\n",
    "    return sorted(list(all_instruments))\n"
   ]
  },
  {
   "cell_type": "code",
   "execution_count": 9,
   "metadata": {},
   "outputs": [],
   "source": [
    "def split_music_to_patches(data, annotation, inst_map, label_aggr, length=1,\n",
    "                           sr=44100, time_window=100.0, binary=False,\n",
    "                           threshold=None):\n",
    "    \"\"\"Split each music file into (length) second patches and label each patch\n",
    "\n",
    "    Note: for each music file, the last patch that is not long enough is\n",
    "          abandoned.\n",
    "          And each patch is raveled to have only one row.\n",
    "\n",
    "    Args:\n",
    "        data(dict): the raw input data for each music file\n",
    "        annotation(dict): annotation for each music file\n",
    "                          calculated as average confidence in this time period\n",
    "        inst_map(dict): a dictionary that maps a intrument name to its correct\n",
    "                        position in the sorted list of all instruments\n",
    "        label_aggr(function): a function that defines the way labels for each\n",
    "                              sample chunk is generated, default is np.mean\n",
    "        length(int): length of each patch, in seconds\n",
    "        sr (int): sample rate of raw audio\n",
    "        time_window(float): time windows for average (in milliseconds)\n",
    "    Returns:\n",
    "        dict: {'X': np array for X, 'y': np array for y, 'present': np array\n",
    "                of indicators for whether the instrument is present in the\n",
    "                track from which the patch is taken}\n",
    "    \"\"\"\n",
    "    res = []\n",
    "    patch_size = sr * length\n",
    "    for k, v in data.items():\n",
    "        for i, e in enumerate(xrange(0, v.shape[1] - patch_size, patch_size)):\n",
    "            patch = v[:, e:patch_size+e].ravel()\n",
    "            sub_df = annotation[k][(i * length <= annotation[k].time) &\n",
    "                                   (annotation[k].time < (i + 1) * length)]\n",
    "            if label_aggr is not None:\n",
    "                inst_conf = sub_df.apply(label_aggr, 0).drop('time')\n",
    "            else:\n",
    "                inst_conf = patch_label.patch_label(0, length, time_window,\n",
    "                                                    sub_df, binary,\n",
    "                                                    threshold).iloc[0]\n",
    "            label = np.zeros(len(inst_map), dtype='float32')\n",
    "            is_present = np.zeros(len(inst_map), dtype='float32')\n",
    "            for j in inst_conf.index:\n",
    "                temp = inst_conf[j]\n",
    "                # if there are two columns of the same instrument, take maximum\n",
    "                if isinstance(temp, pd.Series):\n",
    "                    temp = temp.max()\n",
    "                label[inst_map[j]] = temp\n",
    "                is_present[inst_map[j]] = 1.0\n",
    "            res.append((patch, label, is_present, k, (i*length, (i+1)*length)))\n",
    "    X, y, present, song_name, time = zip(*res)\n",
    "    return {'X': np.array(X), 'y': np.array(y), 'present': np.array(present),\n",
    "            'song_name': song_name, 'time': np.array(time, dtype='float32')}\n"
   ]
  },
  {
   "cell_type": "code",
   "execution_count": 10,
   "metadata": {},
   "outputs": [],
   "source": [
    "in_path = '../../data'\n",
    "length=1\n",
    "time_window=100.0\n",
    "binary=False\n",
    "threshold=None\n",
    "out_path=os.curdir\n",
    "save_size=20\n",
    "norm_channel=False\n",
    "label_aggr=None\n",
    "start_from=0\n",
    "groupID='Group 4'\n",
    "#prep_data(in_path, length=1, time_window=100.0, binary=False, threshold=None)\n",
    "\n",
    "# save parameters for this run\n",
    "to_write = ['{} = {}'.format(k, v) for k, v in locals().items()]\n",
    "with open(os.path.join(out_path, 'config.txt'), 'wb') as f:\n",
    "    f.write('\\n'.join(to_write))\n",
    "\n",
    "# read annotations and match with metadata\n",
    "anno_pkl = os.path.join(out_path, 'anno_label.pkl')\n",
    "annotation = read_activation_confs(in_path)\n",
    "meta = read_meta_data(in_path)"
   ]
  },
  {
   "cell_type": "code",
   "execution_count": 11,
   "metadata": {},
   "outputs": [
    {
     "data": {
      "text/plain": [
       "{'MusicDelta_Beethoven': {'S01': 'violin section',\n",
       "  'S02': 'violin section',\n",
       "  'S03': 'viola',\n",
       "  'S04': 'cello',\n",
       "  'S05': 'double bass',\n",
       "  'S06': 'flute',\n",
       "  'S07': 'flute',\n",
       "  'S08': 'clarinet',\n",
       "  'S09': 'clarinet',\n",
       "  'S10': 'oboe',\n",
       "  'S11': 'oboe',\n",
       "  'S12': 'bassoon',\n",
       "  'S13': 'bassoon',\n",
       "  'S14': 'trumpet',\n",
       "  'S15': 'trumpet',\n",
       "  'S16': 'french horn',\n",
       "  'S17': 'french horn',\n",
       "  'S18': 'timpani'}}"
      ]
     },
     "execution_count": 11,
     "metadata": {},
     "output_type": "execute_result"
    }
   ],
   "source": [
    "meta"
   ]
  },
  {
   "cell_type": "code",
   "execution_count": 12,
   "metadata": {},
   "outputs": [],
   "source": [
    "# group instruments in metadata\n",
    "instGrouping = pd.read_csv('./instGroup.csv')\n",
    "groupLookup = dict(zip(instGrouping['Instrument'].values,\n",
    "                       instGrouping[groupID].values))\n",
    "meta = groupMetaData(meta, groupLookup)\n"
   ]
  },
  {
   "cell_type": "code",
   "execution_count": 13,
   "metadata": {},
   "outputs": [],
   "source": [
    "all_instruments = match_meta_annotation(meta, annotation)\n",
    "if not os.path.exists(anno_pkl):\n",
    "    with open(anno_pkl, 'w') as f:\n",
    "        cPickle.dump(annotation, f)"
   ]
  },
  {
   "cell_type": "code",
   "execution_count": 14,
   "metadata": {},
   "outputs": [
    {
     "data": {
      "text/plain": [
       "(590, 19)"
      ]
     },
     "execution_count": 14,
     "metadata": {},
     "output_type": "execute_result"
    }
   ],
   "source": [
    "annotation['MusicDelta_Beethoven'].shape\n"
   ]
  },
  {
   "cell_type": "code",
   "execution_count": 15,
   "metadata": {},
   "outputs": [
    {
     "data": {
      "text/plain": [
       "{'MusicDelta_Beethoven':         time  violin  violin   viola   cello  double bass   flute   flute  \\\n",
       " 0     0.0000  0.0900  0.2477  0.0763  0.1025       0.9391  0.0778  0.1190   \n",
       " 1     0.0464  0.5586  0.6530  0.2931  0.6460       0.9965  0.4534  0.4759   \n",
       " 2     0.0929  0.9307  0.9034  0.6448  0.9597       0.9998  0.8831  0.8531   \n",
       " 3     0.1393  0.9907  0.9737  0.8662  0.9957       1.0000  0.9836  0.9711   \n",
       " 4     0.1858  0.9983  0.9910  0.9474  0.9994       1.0000  0.9975  0.9941   \n",
       " 5     0.2322  0.9995  0.9959  0.9748  0.9999       1.0000  0.9995  0.9986   \n",
       " 6     0.2786  0.9998  0.9975  0.9848  1.0000       1.0000  0.9999  0.9996   \n",
       " 7     0.3251  0.9999  0.9981  0.9887  1.0000       1.0000  1.0000  0.9999   \n",
       " 8     0.3715  0.9999  0.9981  0.9900  1.0000       1.0000  1.0000  0.9999   \n",
       " 9     0.4180  0.9999  0.9979  0.9901  1.0000       1.0000  1.0000  1.0000   \n",
       " 10    0.4644  0.9998  0.9974  0.9895  1.0000       1.0000  1.0000  1.0000   \n",
       " 11    0.5108  0.9997  0.9967  0.9890  1.0000       1.0000  1.0000  1.0000   \n",
       " 12    0.5573  0.9996  0.9959  0.9888  1.0000       1.0000  1.0000  1.0000   \n",
       " 13    0.6037  0.9993  0.9952  0.9895  1.0000       1.0000  1.0000  1.0000   \n",
       " 14    0.6502  0.9989  0.9948  0.9912  0.9999       1.0000  1.0000  1.0000   \n",
       " 15    0.6966  0.9985  0.9950  0.9934  0.9999       1.0000  1.0000  1.0000   \n",
       " 16    0.7430  0.9982  0.9957  0.9956  0.9999       1.0000  1.0000  1.0000   \n",
       " 17    0.7895  0.9981  0.9967  0.9973  0.9999       1.0000  1.0000  1.0000   \n",
       " 18    0.8359  0.9982  0.9978  0.9985  0.9999       1.0000  1.0000  1.0000   \n",
       " 19    0.8824  0.9984  0.9985  0.9992  0.9999       1.0000  1.0000  1.0000   \n",
       " 20    0.9288  0.9988  0.9991  0.9995  1.0000       1.0000  1.0000  1.0000   \n",
       " 21    0.9752  0.9991  0.9994  0.9997  1.0000       1.0000  1.0000  1.0000   \n",
       " 22    1.0217  0.9993  0.9997  0.9998  1.0000       1.0000  1.0000  1.0000   \n",
       " 23    1.0681  0.9995  0.9998  0.9999  1.0000       1.0000  1.0000  1.0000   \n",
       " 24    1.1146  0.9996  0.9999  0.9999  1.0000       1.0000  1.0000  1.0000   \n",
       " 25    1.1610  0.9997  0.9999  0.9999  1.0000       1.0000  1.0000  1.0000   \n",
       " 26    1.2074  0.9998  0.9999  0.9999  1.0000       1.0000  1.0000  1.0000   \n",
       " 27    1.2539  0.9998  0.9999  0.9999  1.0000       1.0000  1.0000  1.0000   \n",
       " 28    1.3003  0.9998  0.9999  0.9999  1.0000       1.0000  1.0000  1.0000   \n",
       " 29    1.3468  0.9997  0.9999  0.9998  1.0000       1.0000  1.0000  1.0000   \n",
       " ..       ...     ...     ...     ...     ...          ...     ...     ...   \n",
       " 560  26.0063  0.8484  0.4725  0.6297  0.4604       0.9150  0.2362  0.7866   \n",
       " 561  26.0528  0.7961  0.4497  0.5533  0.3994       0.8515  0.2102  0.6856   \n",
       " 562  26.0992  0.7421  0.4347  0.4856  0.3485       0.7724  0.1908  0.5775   \n",
       " 563  26.1457  0.6902  0.4257  0.4287  0.3063       0.6880  0.1767  0.4755   \n",
       " 564  26.1921  0.6429  0.4211  0.3824  0.2714       0.6087  0.1666  0.3881   \n",
       " 565  26.2385  0.6014  0.4188  0.3457  0.2425       0.5405  0.1598  0.3180   \n",
       " 566  26.2850  0.5655  0.4172  0.3171  0.2183       0.4848  0.1553  0.2644   \n",
       " 567  26.3314  0.5347  0.4147  0.2956  0.1978       0.4403  0.1525  0.2243   \n",
       " 568  26.3779  0.5084  0.4102  0.2799  0.1802       0.4046  0.1508  0.1946   \n",
       " 569  26.4243  0.4858  0.4029  0.2690  0.1646       0.3755  0.1498  0.1725   \n",
       " 570  26.4707  0.4656  0.3924  0.2622  0.1507       0.3508  0.1489  0.1559   \n",
       " 571  26.5172  0.4465  0.3784  0.2588  0.1380       0.3292  0.1480  0.1431   \n",
       " 572  26.5636  0.4271  0.3610  0.2580  0.1264       0.3094  0.1468  0.1329   \n",
       " 573  26.6101  0.4069  0.3404  0.2594  0.1158       0.2908  0.1450  0.1245   \n",
       " 574  26.6565  0.3856  0.3168  0.2623  0.1061       0.2727  0.1423  0.1172   \n",
       " 575  26.7029  0.3630  0.2909  0.2657  0.0972       0.2548  0.1385  0.1107   \n",
       " 576  26.7494  0.3392  0.2631  0.2686  0.0893       0.2369  0.1334  0.1048   \n",
       " 577  26.7958  0.3144  0.2344  0.2700  0.0821       0.2187  0.1269  0.0992   \n",
       " 578  26.8423  0.2888  0.2054  0.2687  0.0758       0.2003  0.1194  0.0940   \n",
       " 579  26.8887  0.2627  0.1775  0.2639  0.0703       0.1821  0.1112  0.0890   \n",
       " 580  26.9351  0.2365  0.1519  0.2550  0.0657       0.1642  0.1027  0.0841   \n",
       " 581  26.9816  0.2104  0.1295  0.2418  0.0617       0.1470  0.0943  0.0795   \n",
       " 582  27.0280  0.1852  0.1106  0.2244  0.0584       0.1307  0.0864  0.0750   \n",
       " 583  27.0745  0.1613  0.0951  0.2037  0.0556       0.1157  0.0792  0.0708   \n",
       " 584  27.1209  0.1394  0.0827  0.1808  0.0533       0.1022  0.0729  0.0668   \n",
       " 585  27.1673  0.1198  0.0730  0.1570  0.0515       0.0905  0.0673  0.0632   \n",
       " 586  27.2138  0.1028  0.0654  0.1339  0.0500       0.0805  0.0626  0.0599   \n",
       " 587  27.2602  0.0884  0.0596  0.1129  0.0488       0.0721  0.0587  0.0570   \n",
       " 588  27.3067  0.0765  0.0553  0.0951  0.0479       0.0654  0.0556  0.0544   \n",
       " 589  27.3531  0.0670  0.0520  0.0808  0.0472       0.0601  0.0531  0.0524   \n",
       " \n",
       "      clarinet  clarinet    oboe    oboe  bassoon  bassoon  trumpet  trumpet  \\\n",
       " 0      0.2058    0.3431  0.2060  0.1375   0.6874   0.1608   0.0873   0.1269   \n",
       " 1      0.7659    0.8943  0.7851  0.8089   0.9678   0.8180   0.3669   0.4451   \n",
       " 2      0.9740    0.9922  0.9794  0.9907   0.9974   0.9895   0.7692   0.8110   \n",
       " 3      0.9972    0.9994  0.9981  0.9996   0.9998   0.9994   0.9455   0.9552   \n",
       " 4      0.9996    0.9999  0.9998  1.0000   1.0000   1.0000   0.9875   0.9896   \n",
       " 5      0.9999    1.0000  1.0000  1.0000   1.0000   1.0000   0.9967   0.9973   \n",
       " 6      1.0000    1.0000  1.0000  1.0000   1.0000   1.0000   0.9990   0.9992   \n",
       " 7      1.0000    1.0000  1.0000  1.0000   1.0000   1.0000   0.9996   0.9997   \n",
       " 8      1.0000    1.0000  1.0000  1.0000   1.0000   1.0000   0.9998   0.9999   \n",
       " 9      1.0000    1.0000  1.0000  1.0000   1.0000   1.0000   0.9999   0.9999   \n",
       " 10     1.0000    1.0000  1.0000  1.0000   1.0000   1.0000   0.9999   1.0000   \n",
       " 11     1.0000    1.0000  1.0000  1.0000   1.0000   1.0000   1.0000   1.0000   \n",
       " 12     1.0000    1.0000  1.0000  1.0000   1.0000   1.0000   1.0000   1.0000   \n",
       " 13     1.0000    1.0000  1.0000  1.0000   1.0000   1.0000   1.0000   1.0000   \n",
       " 14     1.0000    1.0000  1.0000  1.0000   1.0000   1.0000   1.0000   1.0000   \n",
       " 15     1.0000    1.0000  1.0000  1.0000   1.0000   1.0000   1.0000   1.0000   \n",
       " 16     1.0000    1.0000  1.0000  1.0000   1.0000   1.0000   1.0000   1.0000   \n",
       " 17     1.0000    1.0000  1.0000  1.0000   1.0000   1.0000   1.0000   1.0000   \n",
       " 18     1.0000    1.0000  1.0000  1.0000   1.0000   1.0000   1.0000   1.0000   \n",
       " 19     1.0000    1.0000  1.0000  1.0000   1.0000   1.0000   1.0000   1.0000   \n",
       " 20     1.0000    1.0000  1.0000  1.0000   1.0000   1.0000   1.0000   1.0000   \n",
       " 21     0.9999    1.0000  1.0000  1.0000   1.0000   1.0000   1.0000   1.0000   \n",
       " 22     0.9999    1.0000  1.0000  1.0000   1.0000   1.0000   1.0000   1.0000   \n",
       " 23     0.9998    1.0000  1.0000  1.0000   1.0000   1.0000   1.0000   1.0000   \n",
       " 24     0.9998    1.0000  1.0000  1.0000   1.0000   1.0000   1.0000   1.0000   \n",
       " 25     0.9997    1.0000  1.0000  1.0000   1.0000   1.0000   1.0000   1.0000   \n",
       " 26     0.9997    1.0000  1.0000  1.0000   1.0000   1.0000   1.0000   1.0000   \n",
       " 27     0.9997    1.0000  1.0000  1.0000   1.0000   1.0000   1.0000   1.0000   \n",
       " 28     0.9997    1.0000  1.0000  1.0000   1.0000   1.0000   1.0000   1.0000   \n",
       " 29     0.9997    1.0000  1.0000  1.0000   1.0000   1.0000   1.0000   1.0000   \n",
       " ..        ...       ...     ...     ...      ...      ...      ...      ...   \n",
       " 560    0.6442    0.8103  0.9543  0.6347   0.8525   0.9568   0.7964   0.4956   \n",
       " 561    0.5509    0.7266  0.9129  0.5288   0.7818   0.9187   0.7004   0.4311   \n",
       " 562    0.4688    0.6416  0.8549  0.4389   0.7049   0.8655   0.5971   0.3785   \n",
       " 563    0.4013    0.5651  0.7871  0.3688   0.6305   0.8021   0.4991   0.3364   \n",
       " 564    0.3478    0.5026  0.7204  0.3166   0.5651   0.7369   0.4151   0.3026   \n",
       " 565    0.3061    0.4551  0.6649  0.2786   0.5121   0.6777   0.3480   0.2752   \n",
       " 566    0.2741    0.4213  0.6265  0.2509   0.4715   0.6292   0.2966   0.2526   \n",
       " 567    0.2498    0.3992  0.6074  0.2306   0.4418   0.5930   0.2583   0.2337   \n",
       " 568    0.2318    0.3864  0.6064  0.2152   0.4205   0.5681   0.2300   0.2174   \n",
       " 569    0.2187    0.3803  0.6208  0.2028   0.4054   0.5521   0.2090   0.2031   \n",
       " 570    0.2095    0.3784  0.6465  0.1922   0.3945   0.5419   0.1933   0.1900   \n",
       " 571    0.2033    0.3783  0.6786  0.1824   0.3860   0.5338   0.1812   0.1778   \n",
       " 572    0.1995    0.3773  0.7117  0.1727   0.3781   0.5244   0.1715   0.1663   \n",
       " 573    0.1972    0.3736  0.7412  0.1629   0.3695   0.5104   0.1634   0.1554   \n",
       " 574    0.1957    0.3654  0.7640  0.1526   0.3589   0.4897   0.1561   0.1448   \n",
       " 575    0.1942    0.3518  0.7787  0.1420   0.3456   0.4615   0.1490   0.1348   \n",
       " 576    0.1920    0.3329  0.7848  0.1312   0.3290   0.4258   0.1418   0.1252   \n",
       " 577    0.1884    0.3094  0.7817  0.1207   0.3091   0.3835   0.1343   0.1161   \n",
       " 578    0.1828    0.2827  0.7682  0.1108   0.2862   0.3366   0.1265   0.1074   \n",
       " 579    0.1750    0.2544  0.7423  0.1016   0.2610   0.2881   0.1184   0.0991   \n",
       " 580    0.1652    0.2259  0.7020  0.0932   0.2342   0.2415   0.1103   0.0913   \n",
       " 581    0.1538    0.1982  0.6465  0.0857   0.2068   0.1997   0.1024   0.0842   \n",
       " 582    0.1414    0.1724  0.5769  0.0790   0.1800   0.1644   0.0947   0.0777   \n",
       " 583    0.1285    0.1490  0.4968  0.0732   0.1549   0.1356   0.0874   0.0719   \n",
       " 584    0.1158    0.1282  0.4119  0.0680   0.1325   0.1128   0.0806   0.0668   \n",
       " 585    0.1034    0.1102  0.3286  0.0635   0.1132   0.0949   0.0743   0.0625   \n",
       " 586    0.0918    0.0950  0.2530  0.0596   0.0973   0.0812   0.0686   0.0588   \n",
       " 587    0.0813    0.0823  0.1896  0.0563   0.0845   0.0707   0.0636   0.0557   \n",
       " 588    0.0720    0.0720  0.1404  0.0535   0.0746   0.0627   0.0592   0.0533   \n",
       " 589    0.0642    0.0640  0.1050  0.0512   0.0671   0.0568   0.0556   0.0514   \n",
       " \n",
       "      french horn  french horn  timpani  \n",
       " 0         0.0992       0.1501   0.9968  \n",
       " 1         0.4221       0.4105   0.9976  \n",
       " 2         0.8211       0.7286   0.9980  \n",
       " 3         0.9629       0.9069   0.9983  \n",
       " 4         0.9921       0.9701   0.9983  \n",
       " 5         0.9981       0.9899   0.9983  \n",
       " 6         0.9994       0.9962   0.9981  \n",
       " 7         0.9998       0.9985   0.9978  \n",
       " 8         0.9999       0.9993   0.9976  \n",
       " 9         1.0000       0.9997   0.9974  \n",
       " 10        1.0000       0.9998   0.9973  \n",
       " 11        1.0000       0.9999   0.9975  \n",
       " 12        1.0000       0.9999   0.9979  \n",
       " 13        1.0000       1.0000   0.9984  \n",
       " 14        1.0000       1.0000   0.9990  \n",
       " 15        1.0000       1.0000   0.9994  \n",
       " 16        1.0000       1.0000   0.9997  \n",
       " 17        1.0000       1.0000   0.9998  \n",
       " 18        1.0000       1.0000   0.9999  \n",
       " 19        1.0000       1.0000   1.0000  \n",
       " 20        1.0000       1.0000   1.0000  \n",
       " 21        1.0000       1.0000   1.0000  \n",
       " 22        1.0000       1.0000   1.0000  \n",
       " 23        1.0000       1.0000   1.0000  \n",
       " 24        1.0000       1.0000   1.0000  \n",
       " 25        1.0000       1.0000   1.0000  \n",
       " 26        1.0000       1.0000   1.0000  \n",
       " 27        1.0000       1.0000   1.0000  \n",
       " 28        1.0000       1.0000   0.9999  \n",
       " 29        1.0000       1.0000   0.9999  \n",
       " ..           ...          ...      ...  \n",
       " 560       0.4491       0.5948   0.9828  \n",
       " 561       0.4387       0.5332   0.9706  \n",
       " 562       0.4274       0.4812   0.9511  \n",
       " 563       0.4154       0.4384   0.9216  \n",
       " 564       0.4028       0.4037   0.8798  \n",
       " 565       0.3899       0.3755   0.8246  \n",
       " 566       0.3764       0.3522   0.7568  \n",
       " 567       0.3620       0.3326   0.6794  \n",
       " 568       0.3466       0.3154   0.5969  \n",
       " 569       0.3305       0.2998   0.5147  \n",
       " 570       0.3141       0.2848   0.4376  \n",
       " 571       0.2978       0.2697   0.3690  \n",
       " 572       0.2816       0.2539   0.3104  \n",
       " 573       0.2656       0.2368   0.2617  \n",
       " 574       0.2496       0.2187   0.2219  \n",
       " 575       0.2339       0.1999   0.1894  \n",
       " 576       0.2183       0.1811   0.1629  \n",
       " 577       0.2029       0.1628   0.1411  \n",
       " 578       0.1876       0.1455   0.1233  \n",
       " 579       0.1727       0.1295   0.1086  \n",
       " 580       0.1581       0.1152   0.0966  \n",
       " 581       0.1439       0.1026   0.0867  \n",
       " 582       0.1301       0.0917   0.0785  \n",
       " 583       0.1170       0.0825   0.0716  \n",
       " 584       0.1048       0.0746   0.0660  \n",
       " 585       0.0935       0.0681   0.0612  \n",
       " 586       0.0834       0.0627   0.0573  \n",
       " 587       0.0746       0.0582   0.0542  \n",
       " 588       0.0672       0.0546   0.0516  \n",
       " 589       0.0611       0.0518   0.0497  \n",
       " \n",
       " [590 rows x 19 columns]}"
      ]
     },
     "execution_count": 15,
     "metadata": {},
     "output_type": "execute_result"
    }
   ],
   "source": [
    "annotation"
   ]
  },
  {
   "cell_type": "code",
   "execution_count": 16,
   "metadata": {},
   "outputs": [],
   "source": [
    "# create and save song_instr mapping\n",
    "song_instr = {}\n",
    "for k, v in annotation.items():\n",
    "    song_instr[k] = set(v.columns[1:])\n",
    "with open(os.path.join(out_path, 'song_instr.pkl'), 'wb') as f:\n",
    "    cPickle.dump(song_instr, f)"
   ]
  },
  {
   "cell_type": "code",
   "execution_count": 17,
   "metadata": {},
   "outputs": [
    {
     "name": "stdout",
     "output_type": "stream",
     "text": [
      "Total number of labels = 11\n"
     ]
    }
   ],
   "source": [
    "# save all instrument list to file\n",
    "with open('all_instruments.txt', 'wb') as f:\n",
    "    f.write('\\n'.join(all_instruments))\n",
    "\n",
    "# get a dictionary mapping all instrument to sorted order\n",
    "all_instruments_map = {e: i for i, e in enumerate(all_instruments)}\n",
    "print 'Total number of labels = {}'.format(len(all_instruments))"
   ]
  },
  {
   "cell_type": "code",
   "execution_count": 18,
   "metadata": {},
   "outputs": [],
   "source": [
    "# read mixed tracks\n",
    "dpath = os.path.join(in_path, \"Audio\")\n",
    "dlist = sorted(os.listdir(dpath))  # get list of tracks in sorted order\n",
    "# write the list to file as reference for song_names in data\n",
    "with open(os.path.join(out_path, 'song_name_list.txt'), 'wb') as f:\n",
    "    f.write('\\n'.join(dlist))"
   ]
  },
  {
   "cell_type": "code",
   "execution_count": 24,
   "metadata": {},
   "outputs": [
    {
     "data": {
      "text/plain": [
       "{'MusicDelta_Beethoven': 0}"
      ]
     },
     "execution_count": 24,
     "metadata": {},
     "output_type": "execute_result"
    }
   ],
   "source": [
    "song_name_map"
   ]
  },
  {
   "cell_type": "code",
   "execution_count": 22,
   "metadata": {},
   "outputs": [],
   "source": [
    "# get a mapping of song names to their sorted order\n",
    "song_name_map = {e: i for i, e in enumerate(dlist)}"
   ]
  },
  {
   "cell_type": "code",
   "execution_count": 23,
   "metadata": {},
   "outputs": [
    {
     "name": "stdout",
     "output_type": "stream",
     "text": [
      "finished reading file\n"
     ]
    }
   ],
   "source": [
    "i=0\n",
    "tdlist = dlist[i:i+save_size]\n",
    "data = read_mixed_from_files(dpath, tdlist)\n",
    "print 'finished reading file'\n",
    "\n",
    "if norm_channel:\n",
    "    normalize_data(data)\n",
    "    print 'finished normalizing data'"
   ]
  },
  {
   "cell_type": "code",
   "execution_count": 25,
   "metadata": {},
   "outputs": [],
   "source": [
    "(k,v)=data.items()[0]\n",
    "patched_data = split_music_to_patches({k: v}, annotation,\n",
    "                                      all_instruments_map,\n",
    "                                      label_aggr)"
   ]
  },
  {
   "cell_type": "code",
   "execution_count": 26,
   "metadata": {},
   "outputs": [
    {
     "data": {
      "text/plain": [
       "{'X': array([[  211.,   221.,   222., ..., -4922., -6341., -7588.],\n",
       "        [-5019., -5997., -7054., ...,  3270.,  2884.,  2609.],\n",
       "        [ 2635.,  2478.,  2328., ..., -7558., -7166., -6760.],\n",
       "        ...,\n",
       "        [ -818.,  -459.,  -204., ...,  -105.,  -118.,  -162.],\n",
       "        [  532.,   584.,   585., ...,   150.,   147.,   137.],\n",
       "        [  192.,   182.,   156., ...,    37.,    38.,    39.]],\n",
       "       dtype=float32),\n",
       " 'present': array([[1., 1., 1., 1., 1., 1., 1., 1., 1., 1., 1.],\n",
       "        [1., 1., 1., 1., 1., 1., 1., 1., 1., 1., 1.],\n",
       "        [1., 1., 1., 1., 1., 1., 1., 1., 1., 1., 1.],\n",
       "        [1., 1., 1., 1., 1., 1., 1., 1., 1., 1., 1.],\n",
       "        [1., 1., 1., 1., 1., 1., 1., 1., 1., 1., 1.],\n",
       "        [1., 1., 1., 1., 1., 1., 1., 1., 1., 1., 1.],\n",
       "        [1., 1., 1., 1., 1., 1., 1., 1., 1., 1., 1.],\n",
       "        [1., 1., 1., 1., 1., 1., 1., 1., 1., 1., 1.],\n",
       "        [1., 1., 1., 1., 1., 1., 1., 1., 1., 1., 1.],\n",
       "        [1., 1., 1., 1., 1., 1., 1., 1., 1., 1., 1.],\n",
       "        [1., 1., 1., 1., 1., 1., 1., 1., 1., 1., 1.],\n",
       "        [1., 1., 1., 1., 1., 1., 1., 1., 1., 1., 1.],\n",
       "        [1., 1., 1., 1., 1., 1., 1., 1., 1., 1., 1.],\n",
       "        [1., 1., 1., 1., 1., 1., 1., 1., 1., 1., 1.],\n",
       "        [1., 1., 1., 1., 1., 1., 1., 1., 1., 1., 1.],\n",
       "        [1., 1., 1., 1., 1., 1., 1., 1., 1., 1., 1.],\n",
       "        [1., 1., 1., 1., 1., 1., 1., 1., 1., 1., 1.],\n",
       "        [1., 1., 1., 1., 1., 1., 1., 1., 1., 1., 1.],\n",
       "        [1., 1., 1., 1., 1., 1., 1., 1., 1., 1., 1.],\n",
       "        [1., 1., 1., 1., 1., 1., 1., 1., 1., 1., 1.],\n",
       "        [1., 1., 1., 1., 1., 1., 1., 1., 1., 1., 1.],\n",
       "        [1., 1., 1., 1., 1., 1., 1., 1., 1., 1., 1.],\n",
       "        [1., 1., 1., 1., 1., 1., 1., 1., 1., 1., 1.],\n",
       "        [1., 1., 1., 1., 1., 1., 1., 1., 1., 1., 1.],\n",
       "        [1., 1., 1., 1., 1., 1., 1., 1., 1., 1., 1.],\n",
       "        [1., 1., 1., 1., 1., 1., 1., 1., 1., 1., 1.],\n",
       "        [1., 1., 1., 1., 1., 1., 1., 1., 1., 1., 1.]], dtype=float32),\n",
       " 'song_name': ('MusicDelta_Beethoven',\n",
       "  'MusicDelta_Beethoven',\n",
       "  'MusicDelta_Beethoven',\n",
       "  'MusicDelta_Beethoven',\n",
       "  'MusicDelta_Beethoven',\n",
       "  'MusicDelta_Beethoven',\n",
       "  'MusicDelta_Beethoven',\n",
       "  'MusicDelta_Beethoven',\n",
       "  'MusicDelta_Beethoven',\n",
       "  'MusicDelta_Beethoven',\n",
       "  'MusicDelta_Beethoven',\n",
       "  'MusicDelta_Beethoven',\n",
       "  'MusicDelta_Beethoven',\n",
       "  'MusicDelta_Beethoven',\n",
       "  'MusicDelta_Beethoven',\n",
       "  'MusicDelta_Beethoven',\n",
       "  'MusicDelta_Beethoven',\n",
       "  'MusicDelta_Beethoven',\n",
       "  'MusicDelta_Beethoven',\n",
       "  'MusicDelta_Beethoven',\n",
       "  'MusicDelta_Beethoven',\n",
       "  'MusicDelta_Beethoven',\n",
       "  'MusicDelta_Beethoven',\n",
       "  'MusicDelta_Beethoven',\n",
       "  'MusicDelta_Beethoven',\n",
       "  'MusicDelta_Beethoven',\n",
       "  'MusicDelta_Beethoven'),\n",
       " 'time': array([[ 0.,  1.],\n",
       "        [ 1.,  2.],\n",
       "        [ 2.,  3.],\n",
       "        [ 3.,  4.],\n",
       "        [ 4.,  5.],\n",
       "        [ 5.,  6.],\n",
       "        [ 6.,  7.],\n",
       "        [ 7.,  8.],\n",
       "        [ 8.,  9.],\n",
       "        [ 9., 10.],\n",
       "        [10., 11.],\n",
       "        [11., 12.],\n",
       "        [12., 13.],\n",
       "        [13., 14.],\n",
       "        [14., 15.],\n",
       "        [15., 16.],\n",
       "        [16., 17.],\n",
       "        [17., 18.],\n",
       "        [18., 19.],\n",
       "        [19., 20.],\n",
       "        [20., 21.],\n",
       "        [21., 22.],\n",
       "        [22., 23.],\n",
       "        [23., 24.],\n",
       "        [24., 25.],\n",
       "        [25., 26.],\n",
       "        [26., 27.]], dtype=float32),\n",
       " 'y': array([[1.        , 1.        , 1.        , 1.        , 1.        ,\n",
       "         1.        , 1.        , 0.9999    , 1.        , 0.99833333,\n",
       "         0.9999    ],\n",
       "        [1.        , 1.        , 1.        , 1.        , 1.        ,\n",
       "         1.        , 1.        , 1.        , 1.        , 0.9999    ,\n",
       "         0.9999    ],\n",
       "        [1.        , 1.        , 1.        , 1.        , 1.        ,\n",
       "         1.        , 1.        , 1.        , 1.        , 0.9999    ,\n",
       "         1.        ],\n",
       "        [1.        , 1.        , 1.        , 1.        , 1.        ,\n",
       "         1.        , 1.        , 1.        , 1.        , 0.9999    ,\n",
       "         1.        ],\n",
       "        [1.        , 1.        , 1.        , 1.        , 1.        ,\n",
       "         1.        , 1.        , 1.        , 1.        , 1.        ,\n",
       "         1.        ],\n",
       "        [1.        , 0.9932    , 1.        , 0.99843335, 1.        ,\n",
       "         1.        , 1.        , 0.98693335, 1.        , 0.97546667,\n",
       "         0.9959667 ],\n",
       "        [1.        , 1.        , 1.        , 1.        , 1.        ,\n",
       "         1.        , 1.        , 1.        , 1.        , 0.9999    ,\n",
       "         1.        ],\n",
       "        [1.        , 0.9998    , 1.        , 1.        , 1.        ,\n",
       "         1.        , 1.        , 0.9999    , 1.        , 1.        ,\n",
       "         0.9999    ],\n",
       "        [1.        , 0.9997333 , 1.        , 1.        , 1.        ,\n",
       "         1.        , 1.        , 0.9998    , 1.        , 0.9999    ,\n",
       "         0.9996    ],\n",
       "        [1.        , 1.        , 1.        , 1.        , 1.        ,\n",
       "         1.        , 1.        , 1.        , 1.        , 0.99983335,\n",
       "         0.9999    ],\n",
       "        [1.        , 1.        , 1.        , 1.        , 1.        ,\n",
       "         1.        , 1.        , 1.        , 1.        , 0.9999    ,\n",
       "         0.9999667 ],\n",
       "        [1.        , 1.        , 1.        , 1.        , 1.        ,\n",
       "         1.        , 1.        , 1.        , 1.        , 0.9999    ,\n",
       "         1.        ],\n",
       "        [1.        , 0.9999667 , 1.        , 1.        , 1.        ,\n",
       "         1.        , 1.        , 1.        , 1.        , 1.        ,\n",
       "         1.        ],\n",
       "        [1.        , 1.        , 1.        , 1.        , 1.        ,\n",
       "         1.        , 1.        , 1.        , 1.        , 1.        ,\n",
       "         1.        ],\n",
       "        [1.        , 1.        , 1.        , 1.        , 1.        ,\n",
       "         1.        , 1.        , 0.99986666, 1.        , 0.99936664,\n",
       "         1.        ],\n",
       "        [1.        , 1.        , 1.        , 1.        , 1.        ,\n",
       "         1.        , 1.        , 1.        , 1.        , 0.9999    ,\n",
       "         1.        ],\n",
       "        [1.        , 1.        , 1.        , 1.        , 1.        ,\n",
       "         1.        , 1.        , 0.9999    , 1.        , 0.9992    ,\n",
       "         1.        ],\n",
       "        [1.        , 1.        , 1.        , 1.        , 1.        ,\n",
       "         1.        , 1.        , 1.        , 1.        , 0.99983335,\n",
       "         1.        ],\n",
       "        [1.        , 1.        , 1.        , 1.        , 1.        ,\n",
       "         1.        , 1.        , 1.        , 1.        , 1.        ,\n",
       "         1.        ],\n",
       "        [1.        , 1.        , 1.        , 1.        , 1.        ,\n",
       "         1.        , 1.        , 1.        , 1.        , 1.        ,\n",
       "         1.        ],\n",
       "        [1.        , 1.        , 1.        , 1.        , 1.        ,\n",
       "         1.        , 1.        , 1.        , 1.        , 1.        ,\n",
       "         1.        ],\n",
       "        [1.        , 1.        , 1.        , 1.        , 1.        ,\n",
       "         1.        , 1.        , 1.        , 0.9999667 , 1.        ,\n",
       "         1.        ],\n",
       "        [1.        , 1.        , 1.        , 1.        , 1.        ,\n",
       "         1.        , 1.        , 1.        , 1.        , 0.99993336,\n",
       "         1.        ],\n",
       "        [1.        , 0.9999    , 1.        , 1.        , 1.        ,\n",
       "         1.        , 1.        , 0.9698667 , 0.99993336, 1.        ,\n",
       "         1.        ],\n",
       "        [1.        , 0.9999    , 1.        , 1.        , 1.        ,\n",
       "         1.        , 1.        , 1.        , 1.        , 1.        ,\n",
       "         1.        ],\n",
       "        [1.        , 0.9997333 , 1.        , 1.        , 0.9997    ,\n",
       "         0.9985    , 1.        , 1.        , 1.        , 1.        ,\n",
       "         1.        ],\n",
       "        [0.91366667, 0.40276667, 0.72616667, 0.8463    , 0.6832333 ,\n",
       "         0.5364    , 0.9073667 , 0.96816665, 0.6979667 , 0.5562    ,\n",
       "         0.79553336]], dtype=float32)}"
      ]
     },
     "execution_count": 26,
     "metadata": {},
     "output_type": "execute_result"
    }
   ],
   "source": [
    "patched_data"
   ]
  },
  {
   "cell_type": "code",
   "execution_count": 25,
   "metadata": {},
   "outputs": [
    {
     "data": {
      "text/plain": [
       "11"
      ]
     },
     "execution_count": 25,
     "metadata": {},
     "output_type": "execute_result"
    }
   ],
   "source": [
    "patched_data['present'][26]"
   ]
  },
  {
   "cell_type": "code",
   "execution_count": 44,
   "metadata": {},
   "outputs": [
    {
     "name": "stdout",
     "output_type": "stream",
     "text": [
      "finished taking patches of MusicDelta_Beethoven\n"
     ]
    }
   ],
   "source": [
    "temp_l = len(patched_data['song_name'])\n",
    "patched_data['song_name'] = np.array([song_name_map[e] for e in\n",
    "                                      patched_data['song_name']],\n",
    "                                     dtype='float32'). \\\n",
    "    reshape(temp_l, 1)\n",
    "# save patches to file\n",
    "patches_save_path = os.path.join(out_path, '{}_patched.mat'.\n",
    "                                 format(k))\n",
    "if not os.path.exists(patches_save_path):\n",
    "    savemat(patches_save_path, patched_data)\n",
    "#del patched_data\n",
    "print 'finished taking patches of {}'.format(k)\n"
   ]
  },
  {
   "cell_type": "code",
   "execution_count": 33,
   "metadata": {},
   "outputs": [
    {
     "name": "stdout",
     "output_type": "stream",
     "text": [
      "finished 1 of 1\n"
     ]
    }
   ],
   "source": [
    "# split to x second patches\n",
    "del data\n",
    "gc.collect()\n",
    "print 'finished {} of {}'.format(min(i+save_size, len(dlist)),\n",
    "                                 len(dlist))"
   ]
  },
  {
   "cell_type": "code",
   "execution_count": 34,
   "metadata": {},
   "outputs": [],
   "source": [
    "import scipy.io as sio\n",
    "df=sio.loadmat('MusicDelta_Beethoven_patched.mat')"
   ]
  },
  {
   "cell_type": "code",
   "execution_count": 64,
   "metadata": {},
   "outputs": [],
   "source": [
    "(k,v)=data.items()[0]"
   ]
  },
  {
   "cell_type": "code",
   "execution_count": 69,
   "metadata": {},
   "outputs": [
    {
     "name": "stdout",
     "output_type": "stream",
     "text": [
      "[[ 211.  221.  222. ...,    0.    0.    0.]\n",
      " [ 323.  337.  343. ...,   -1.    0.    0.]]\n"
     ]
    }
   ],
   "source": [
    "for (i,j) in {k:v}.items():\n",
    "    print j"
   ]
  },
  {
   "cell_type": "code",
   "execution_count": 70,
   "metadata": {},
   "outputs": [
    {
     "data": {
      "text/plain": [
       "1207232"
      ]
     },
     "execution_count": 70,
     "metadata": {},
     "output_type": "execute_result"
    }
   ],
   "source": [
    "v.shape[1]"
   ]
  },
  {
   "cell_type": "code",
   "execution_count": 81,
   "metadata": {},
   "outputs": [
    {
     "data": {
      "text/plain": [
       "array([  211.,   221.,   222., ..., -4922., -6341., -7588.], dtype=float32)"
      ]
     },
     "execution_count": 81,
     "metadata": {},
     "output_type": "execute_result"
    }
   ],
   "source": [
    "patched_data['X'][0] ### NOTE: The length is 88200 as l and r are appended (each of len 1s i.e 44100 samples)"
   ]
  },
  {
   "cell_type": "code",
   "execution_count": 87,
   "metadata": {},
   "outputs": [
    {
     "data": {
      "text/plain": [
       "'m/n'"
      ]
     },
     "execution_count": 87,
     "metadata": {},
     "output_type": "execute_result"
    }
   ],
   "source": [
    "os.path.join('m','n')"
   ]
  },
  {
   "cell_type": "code",
   "execution_count": 88,
   "metadata": {},
   "outputs": [
    {
     "data": {
      "text/plain": [
       "'/'"
      ]
     },
     "execution_count": 88,
     "metadata": {},
     "output_type": "execute_result"
    }
   ],
   "source": [
    "os.sep"
   ]
  },
  {
   "cell_type": "code",
   "execution_count": null,
   "metadata": {},
   "outputs": [],
   "source": [
    " os.path.join(dpath, i, '{}_METADATA.yaml'.format(i))"
   ]
  },
  {
   "cell_type": "code",
   "execution_count": 89,
   "metadata": {},
   "outputs": [],
   "source": [
    "dlist = os.listdir('../../data/Audio')"
   ]
  },
  {
   "cell_type": "code",
   "execution_count": 90,
   "metadata": {},
   "outputs": [
    {
     "data": {
      "text/plain": [
       "['MusicDelta_Beethoven']"
      ]
     },
     "execution_count": 90,
     "metadata": {},
     "output_type": "execute_result"
    }
   ],
   "source": [
    "dlist"
   ]
  },
  {
   "cell_type": "code",
   "execution_count": 91,
   "metadata": {},
   "outputs": [],
   "source": [
    "for i in dlist:\n",
    "        fpath = os.path.join(dpath, i, '{}_METADATA.yaml'.format(i))"
   ]
  },
  {
   "cell_type": "code",
   "execution_count": 92,
   "metadata": {},
   "outputs": [
    {
     "data": {
      "text/plain": [
       "'../../data/Audio/MusicDelta_Beethoven/MusicDelta_Beethoven_METADATA.yaml'"
      ]
     },
     "execution_count": 92,
     "metadata": {},
     "output_type": "execute_result"
    }
   ],
   "source": [
    "fpath"
   ]
  },
  {
   "cell_type": "code",
   "execution_count": null,
   "metadata": {},
   "outputs": [],
   "source": []
  }
 ],
 "metadata": {
  "kernelspec": {
   "display_name": "Python 2",
   "language": "python",
   "name": "python2"
  },
  "language_info": {
   "codemirror_mode": {
    "name": "ipython",
    "version": 2
   },
   "file_extension": ".py",
   "mimetype": "text/x-python",
   "name": "python",
   "nbconvert_exporter": "python",
   "pygments_lexer": "ipython2",
   "version": "2.7.12"
  }
 },
 "nbformat": 4,
 "nbformat_minor": 2
}
